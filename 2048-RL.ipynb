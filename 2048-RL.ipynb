{
 "cells": [
  {
   "cell_type": "code",
   "execution_count": 1,
   "metadata": {},
   "outputs": [
    {
     "name": "stderr",
     "output_type": "stream",
     "text": [
      "/Users/yogesh/tensorflow/lib/python3.6/site-packages/h5py/__init__.py:36: FutureWarning: Conversion of the second argument of issubdtype from `float` to `np.floating` is deprecated. In future, it will be treated as `np.float64 == np.dtype(float).type`.\n",
      "  from ._conv import register_converters as _register_converters\n"
     ]
    }
   ],
   "source": [
    "from __future__ import print_function\n",
    "\n",
    "import argparse\n",
    "import math\n",
    "import pickle\n",
    "import random\n",
    "import datetime\n",
    "import numpy as np\n",
    "\n",
    "import gym\n",
    "\n",
    "import gym_2048\n",
    "\n",
    "from policy_gradient import PolicyGradient\n",
    "import matplotlib.pyplot as plt\n",
    "\n",
    "import warnings\n",
    "warnings.filterwarnings(\"ignore\")"
   ]
  },
  {
   "cell_type": "code",
   "execution_count": 2,
   "metadata": {},
   "outputs": [
    {
     "name": "stdout",
     "output_type": "stream",
     "text": [
      "\u001b[33mWARN: gym.spaces.Box autodetected dtype as <class 'numpy.float32'>. Please provide explicit dtype.\u001b[0m\n",
      "\u001b[33mWARN: Environment '<class 'gym_2048.envs.game2048_env.Game2048Env'>' has deprecated methods. Compatibility code invoked.\u001b[0m\n"
     ]
    }
   ],
   "source": [
    "env = gym.make(\"2048-v0\")\n",
    "env.reset()\n",
    "\n",
    "# Policy gradient has high variance, seed for reproducability\n",
    "env.seed(1)\n",
    "\n",
    "'''\n",
    "print(\"env.action_space\", env.action_space)\n",
    "print(\"env.observation_space\", env.observation_space)\n",
    "print(\"env.observation_space.high\", env.observation_space.high)\n",
    "print(\"env.observation_space.low\", env.observation_space.low)\n",
    "'''\n",
    "RENDER_ENV = False\n",
    "EPISODES = 50\n",
    "EPISODE_WINDOW = EPISODES / 10\n",
    "EPISODE_WINDOW_SHIFT = 10\n",
    "\n",
    "#Progress tracking metrics\n",
    "rewards = []\n",
    "max_tile_values = []\n",
    "\n",
    "QUIET = True\n",
    "\n",
    "# Load checkpoint\n",
    "load_path = \"outputs/weights/2048-v0.ckpt\"\n",
    "save_path = \"outputs/weights/2048-v0.ckpt\""
   ]
  },
  {
   "cell_type": "code",
   "execution_count": 3,
   "metadata": {},
   "outputs": [
    {
     "name": "stderr",
     "output_type": "stream",
     "text": [
      "Using TensorFlow backend.\n"
     ]
    },
    {
     "name": "stdout",
     "output_type": "stream",
     "text": [
      "INFO:tensorflow:Restoring parameters from outputs/weights/2048-v0.ckpt\n"
     ]
    },
    {
     "name": "stderr",
     "output_type": "stream",
     "text": [
      "INFO:tensorflow:Restoring parameters from outputs/weights/2048-v0.ckpt\n"
     ]
    },
    {
     "name": "stdout",
     "output_type": "stream",
     "text": [
      "Episode:  0\n",
      "Episode:  1\n",
      "Episode:  2\n",
      "Episode:  3\n",
      "Episode:  4\n",
      "Episode:  5\n",
      "Episode:  6\n",
      "Episode:  7\n",
      "Episode:  8\n",
      "Episode:  9\n",
      "Episode:  10\n",
      "Episode:  11\n",
      "Episode:  12\n",
      "Episode:  13\n",
      "Episode:  14\n",
      "Episode:  15\n",
      "Episode:  16\n",
      "Episode:  17\n",
      "Episode:  18\n",
      "Episode:  19\n",
      "Episode:  20\n",
      "Episode:  21\n",
      "Episode:  22\n",
      "Episode:  23\n",
      "Episode:  24\n",
      "Episode:  25\n",
      "Episode:  26\n",
      "Episode:  27\n",
      "Episode:  28\n",
      "Episode:  29\n",
      "Episode:  30\n",
      "Episode:  31\n",
      "Episode:  32\n",
      "Episode:  33\n",
      "Episode:  34\n",
      "Episode:  35\n",
      "Episode:  36\n",
      "Episode:  37\n",
      "Episode:  38\n",
      "Episode:  39\n",
      "Episode:  40\n",
      "Episode:  41\n",
      "Episode:  42\n",
      "Episode:  43\n",
      "Episode:  44\n",
      "Episode:  45\n",
      "Episode:  46\n",
      "Episode:  47\n",
      "Episode:  48\n",
      "Episode:  49\n"
     ]
    }
   ],
   "source": [
    "if __name__ == \"__main__\":\n",
    "\n",
    "    PG = PolicyGradient(\n",
    "        n_x = env.observation_space.shape[0],\n",
    "        n_y = env.action_space.n,\n",
    "        learning_rate=0.01,\n",
    "        reward_decay=0.99,\n",
    "        epochs=3,\n",
    "        load_path=load_path,\n",
    "        save_path=save_path\n",
    "    )\n",
    "    \n",
    "    PG.quiet = QUIET\n",
    "\n",
    "    for episode in range(EPISODES):\n",
    "\n",
    "        observation = env.reset()\n",
    "        episode_reward = 0\n",
    "        max_tile_value_so_far = 0\n",
    "\n",
    "        while True:\n",
    "            if RENDER_ENV: env.render()\n",
    "\n",
    "            # Choose an action based on observation\n",
    "            action = PG.choose_action(observation)\n",
    "            \n",
    "            move_reward = 0\n",
    "\n",
    "            while move_reward == 0:\n",
    "                \n",
    "                # Take action in the environment\n",
    "                observation_, reward, done, info = env.step(action)\n",
    "        \n",
    "                if done: break\n",
    "                \n",
    "                # copying for while condition\n",
    "                move_reward = reward\n",
    "                \n",
    "                if move_reward == 0:\n",
    "                    # Get out of the invalid move loop by choosing remaining moves randomly\n",
    "                    action = (action + 1 + np.random.randint(env.action_space.n - 1)) % env.action_space.n\n",
    "            \n",
    "                reward /= np.max(observation.flatten()) * 0.5\n",
    "                \n",
    "                # Store transition for training\n",
    "                PG.store_transition(observation, action, reward)\n",
    "\n",
    "            if done:\n",
    "                episode_rewards_sum = sum(PG.episode_rewards)\n",
    "                max_tile_value = np.max(observation.flatten())\n",
    "                \n",
    "                rewards.append(episode_rewards_sum)\n",
    "                max_tile_values.append(max_tile_value)\n",
    "                \n",
    "                max_reward_so_far = np.amax(rewards)\n",
    "                max_tile_value_so_far = np.amax(max_tile_values)\n",
    "\n",
    "                print(\"Episode: \", episode)\n",
    "                if not QUIET:\n",
    "                    print(\"==========================================\")\n",
    "                    print(\"Max tile value: \", max_tile_value)\n",
    "                    print(\"Reward: \", episode_rewards_sum)\n",
    "                    print(\"Max tile value so far: \", max_tile_value_so_far)\n",
    "                    print(\"Max reward so far: \", max_reward_so_far)\n",
    "\n",
    "                # Train neural network\n",
    "                discounted_episode_rewards_norm = PG.learn()\n",
    "                \n",
    "                break\n",
    "\n",
    "            # Save new observation\n",
    "            observation = observation_\n",
    "        \n",
    "        if episode > 0 and episode % EPISODE_WINDOW == 0:\n",
    "            #PG.plot(y_data=rewards, y_label=\"Rewards\", window=EPISODE_WINDOW)\n",
    "            PG.plot(y_data=max_tile_values, y_label=\"Max Tile\", n_episode=episode, window=EPISODE_WINDOW)\n",
    "        \n",
    "    PG.plot(y_data=rewards, y_label=\"Rewards\", n_episode=EPISODES, window=EPISODE_WINDOW)\n",
    "    PG.plot(y_data=max_tile_values, y_label=\"Max Tile\", n_episode=EPISODES, window=EPISODE_WINDOW)\n",
    "    "
   ]
  }
 ],
 "metadata": {
  "kernelspec": {
   "display_name": "Python 3",
   "language": "python",
   "name": "python3"
  },
  "language_info": {
   "codemirror_mode": {
    "name": "ipython",
    "version": 3
   },
   "file_extension": ".py",
   "mimetype": "text/x-python",
   "name": "python",
   "nbconvert_exporter": "python",
   "pygments_lexer": "ipython3",
   "version": "3.6.4"
  }
 },
 "nbformat": 4,
 "nbformat_minor": 2
}
