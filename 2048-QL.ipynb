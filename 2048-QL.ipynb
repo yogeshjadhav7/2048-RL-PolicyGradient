{
 "cells": [
  {
   "cell_type": "code",
   "execution_count": 1,
   "metadata": {},
   "outputs": [
    {
     "name": "stderr",
     "output_type": "stream",
     "text": [
      "/Users/yogesh/tensorflow/lib/python3.6/site-packages/h5py/__init__.py:36: FutureWarning: Conversion of the second argument of issubdtype from `float` to `np.floating` is deprecated. In future, it will be treated as `np.float64 == np.dtype(float).type`.\n",
      "  from ._conv import register_converters as _register_converters\n",
      "Using TensorFlow backend.\n"
     ]
    }
   ],
   "source": [
    "from __future__ import print_function\n",
    "\n",
    "import argparse\n",
    "import math\n",
    "import pickle\n",
    "import random\n",
    "import datetime\n",
    "import numpy as np\n",
    "\n",
    "import gym\n",
    "import gym_2048\n",
    "\n",
    "from q_learning import QLearning\n",
    "import matplotlib.pyplot as plt\n",
    "\n",
    "import warnings\n",
    "warnings.filterwarnings(\"ignore\")"
   ]
  },
  {
   "cell_type": "code",
   "execution_count": 2,
   "metadata": {},
   "outputs": [
    {
     "name": "stdout",
     "output_type": "stream",
     "text": [
      "\u001b[33mWARN: gym.spaces.Box autodetected dtype as <class 'numpy.float32'>. Please provide explicit dtype.\u001b[0m\n",
      "\u001b[33mWARN: Environment '<class 'gym_2048.envs.game2048_env.Game2048Env'>' has deprecated methods. Compatibility code invoked.\u001b[0m\n"
     ]
    }
   ],
   "source": [
    "env = gym.make(\"2048-v0\")\n",
    "env.reset()\n",
    "env.seed(1)\n",
    "\n",
    "RENDER_ENV = False\n",
    "TRAINING_ON = True\n",
    "EPISODES = 1000\n",
    "Q_MODEL_PATH = \"outputs/keras-models/2048_q_model.h5\"\n",
    "Q_MODEL_WEIGHTS_PATH = \"outputs/keras-models/2048_q_model_weights.h5\"\n",
    "T_MODEL_PATH = \"outputs/keras-models/2048_t_model.h5\"\n",
    "\n",
    "board_size = int(math.sqrt(env.observation_space.shape[0]))\n",
    "n_output = env.action_space.n"
   ]
  },
  {
   "cell_type": "code",
   "execution_count": 3,
   "metadata": {},
   "outputs": [],
   "source": [
    "QL = QLearning (\n",
    "    n_x=board_size,\n",
    "    n_y=n_output,\n",
    "    q_save_path = Q_MODEL_PATH,\n",
    "    q_weights_save_path=Q_MODEL_WEIGHTS_PATH,\n",
    "    t_save_path = T_MODEL_PATH,\n",
    "    total_episodes=EPISODES,\n",
    "    restore_model=True,\n",
    "    is_training_on=TRAINING_ON,\n",
    "    T=10\n",
    ")"
   ]
  },
  {
   "cell_type": "code",
   "execution_count": null,
   "metadata": {},
   "outputs": [],
   "source": [
    "for episode in range(EPISODES):\n",
    "    observation = env.reset()\n",
    "    QL.curr_episode = episode\n",
    "    \n",
    "    while True:\n",
    "        if RENDER_ENV: env.render()\n",
    "            \n",
    "        valid_move = False    \n",
    "        action = None\n",
    "        \n",
    "        while not valid_move:\n",
    "            \n",
    "            # Choose an action based on observation\n",
    "            if action == None: action = QL.choose_action(observation)\n",
    "            \n",
    "            observation_, reward, done, info = env.step(action)\n",
    "            valid_move = info['valid']\n",
    "            \n",
    "            reward = QL.calculate_reward(valid_move, done, reward, observation_)\n",
    "        \n",
    "            QL.save_experience(observation=observation, action=action, \n",
    "                               reward=reward, observation_=observation_, is_game_over=done, is_move_valid=valid_move)\n",
    "            \n",
    "            action = (action + 1) % QL.n_y\n",
    "        \n",
    "        features, labels = QL.sample_from_experience()\n",
    "        QL.train_model(features=features, labels=labels)\n",
    "        \n",
    "        if done:\n",
    "            highest_tile_value = QL.get_highest_tile_value(observation_)\n",
    "            QL.episodic_highest_tiles_track.append(highest_tile_value)\n",
    "            print(\"Episode #\", (episode + 1), \" : Highest Tile: \", highest_tile_value)\n",
    "            env.render()\n",
    "            QL.plot_progress(y_data=QL.episodic_highest_tiles_track, y_label=\"Highest_Tile_Value\", n_episode=episode)\n",
    "            break\n",
    "            \n",
    "    QL.transfer_model()\n",
    "    QL.save_q_model()\n",
    "        "
   ]
  }
 ],
 "metadata": {
  "kernelspec": {
   "display_name": "Python 3",
   "language": "python",
   "name": "python3"
  },
  "language_info": {
   "codemirror_mode": {
    "name": "ipython",
    "version": 3
   },
   "file_extension": ".py",
   "mimetype": "text/x-python",
   "name": "python",
   "nbconvert_exporter": "python",
   "pygments_lexer": "ipython3",
   "version": "3.6.4"
  }
 },
 "nbformat": 4,
 "nbformat_minor": 2
}
